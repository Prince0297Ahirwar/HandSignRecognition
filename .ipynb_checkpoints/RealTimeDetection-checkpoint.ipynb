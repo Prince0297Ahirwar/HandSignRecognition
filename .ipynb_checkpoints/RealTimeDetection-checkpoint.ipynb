{
 "cells": [
  {
   "cell_type": "markdown",
   "id": "e182e0a3",
   "metadata": {},
   "source": [
    "# 1. Import and Install Dependencies"
   ]
  },
  {
   "cell_type": "code",
   "execution_count": 1,
   "id": "a9479986",
   "metadata": {
    "collapsed": true
   },
   "outputs": [
    {
     "name": "stdout",
     "output_type": "stream",
     "text": [
      "\n",
      "     active environment : py37gpu\n",
      "    active env location : C:\\Users\\91963\\anaconda3\\envs\\py37gpu\n",
      "            shell level : 1\n",
      "       user config file : C:\\Users\\91963\\.condarc\n",
      " populated config files : C:\\Users\\91963\\.condarc\n",
      "          conda version : 4.10.1\n",
      "    conda-build version : 3.21.4\n",
      "         python version : 3.8.8.final.0\n",
      "       virtual packages : __cuda=11.5=0\n",
      "                          __win=0=0\n",
      "                          __archspec=1=x86_64\n",
      "       base environment : C:\\Users\\91963\\anaconda3  (writable)\n",
      "      conda av data dir : C:\\Users\\91963\\anaconda3\\etc\\conda\n",
      "  conda av metadata url : https://repo.anaconda.com/pkgs/main\n",
      "           channel URLs : https://repo.anaconda.com/pkgs/main/win-64\n",
      "                          https://repo.anaconda.com/pkgs/main/noarch\n",
      "                          https://repo.anaconda.com/pkgs/r/win-64\n",
      "                          https://repo.anaconda.com/pkgs/r/noarch\n",
      "                          https://repo.anaconda.com/pkgs/msys2/win-64\n",
      "                          https://repo.anaconda.com/pkgs/msys2/noarch\n",
      "          package cache : C:\\Users\\91963\\anaconda3\\pkgs\n",
      "                          C:\\Users\\91963\\.conda\\pkgs\n",
      "                          C:\\Users\\91963\\AppData\\Local\\conda\\conda\\pkgs\n",
      "       envs directories : C:\\Users\\91963\\anaconda3\\envs\n",
      "                          C:\\Users\\91963\\.conda\\envs\n",
      "                          C:\\Users\\91963\\AppData\\Local\\conda\\conda\\envs\n",
      "               platform : win-64\n",
      "             user-agent : conda/4.10.1 requests/2.25.1 CPython/3.8.8 Windows/10 Windows/10.0.19041\n",
      "          administrator : False\n",
      "             netrc file : None\n",
      "           offline mode : False\n",
      "\n"
     ]
    }
   ],
   "source": [
    "!conda info"
   ]
  },
  {
   "cell_type": "code",
   "execution_count": 2,
   "id": "7e0af136",
   "metadata": {},
   "outputs": [],
   "source": [
    "# !pip install opencv-python mediapipe sklearn matplotlib"
   ]
  },
  {
   "cell_type": "code",
   "execution_count": 1,
   "id": "3d1c4c5a",
   "metadata": {},
   "outputs": [],
   "source": [
    "import cv2 #opencv\n",
    "import numpy as np\n",
    "import os   #helps with path\n",
    "from matplotlib import pyplot as plt #to use plt.imshow()\n",
    "import time              #to measure time between frames \n",
    "import mediapipe as mp   \n"
   ]
  },
  {
   "cell_type": "markdown",
   "id": "15d969a1",
   "metadata": {},
   "source": [
    "# 2. Extracting Keypoints using media pipe Holistic"
   ]
  },
  {
   "cell_type": "code",
   "execution_count": 2,
   "id": "5c9c7cda",
   "metadata": {},
   "outputs": [],
   "source": [
    "mp_holistic = mp.solutions.holistic # Holistic model\n",
    "mp_drawing = mp.solutions.drawing_utils # Drawing utilities"
   ]
  },
  {
   "cell_type": "code",
   "execution_count": 3,
   "id": "1b528f87",
   "metadata": {},
   "outputs": [],
   "source": [
    "def mediapipe_detection(image, model):\n",
    "    image = cv2.cvtColor(image, cv2.COLOR_BGR2RGB) # COLOR CONVERSION BGR 2 RGB because by default opencv use bgr but we need rgb for mediapipe to process image\n",
    "    image.flags.writeable = False                  # Image is no longer writeable\n",
    "    results = model.process(image)                 # Make prediction\n",
    "    image.flags.writeable = True                   # Image is now writeable \n",
    "    image = cv2.cvtColor(image, cv2.COLOR_RGB2BGR) # COLOR COVERSION RGB 2 BGR\n",
    "    return image, results"
   ]
  },
  {
   "cell_type": "code",
   "execution_count": 5,
   "id": "95c686a2",
   "metadata": {},
   "outputs": [],
   "source": [
    "#  cv2.cvtColor??"
   ]
  },
  {
   "cell_type": "code",
   "execution_count": 4,
   "id": "4b2efff6",
   "metadata": {},
   "outputs": [],
   "source": [
    "def draw_landmarks(image, results):\n",
    "#     mp_drawing.draw_landmarks(image, results.face_landmarks, mp_holistic.FACEMESH_TESSELATION) # Draw face connections\n",
    "#     mp_drawing.draw_landmarks(image, results.pose_landmarks, mp_holistic.POSE_CONNECTIONS) # Draw pose connections\n",
    "    mp_drawing.draw_landmarks(image, results.left_hand_landmarks, mp_holistic.HAND_CONNECTIONS) # Draw left hand connections\n",
    "    mp_drawing.draw_landmarks(image, results.right_hand_landmarks, mp_holistic.HAND_CONNECTIONS) # Draw right hand connections"
   ]
  },
  {
   "cell_type": "code",
   "execution_count": 7,
   "id": "787455d2",
   "metadata": {},
   "outputs": [],
   "source": [
    "# mp_drawing.draw_landmarks??"
   ]
  },
  {
   "cell_type": "code",
   "execution_count": 8,
   "id": "724478c7",
   "metadata": {},
   "outputs": [],
   "source": [
    "# mp_holistic.POSE_CONNECTIONS"
   ]
  },
  {
   "cell_type": "markdown",
   "id": "2aea8753",
   "metadata": {},
   "source": [
    "# function to draw styled landmarks same as drawlandmarks but with different style applied to landmarks"
   ]
  },
  {
   "cell_type": "code",
   "execution_count": 5,
   "id": "cf07799a",
   "metadata": {},
   "outputs": [],
   "source": [
    "def draw_styled_landmarks(image, results):\n",
    "    # Draw face connections\n",
    "#     mp_drawing.draw_landmarks(image, results.face_landmarks, mp_holistic.FACEMESH_TESSELATION, \n",
    "#                              mp_drawing.DrawingSpec(color=(80,110,10), thickness=1, circle_radius=1), \n",
    "#                              mp_drawing.DrawingSpec(color=(80,256,121), thickness=1, circle_radius=1)\n",
    "#                              ) \n",
    "#     mp_drawing.draw_landmarks(image, results.face_landmarks, mp_holistic.FACEMESH_CONTOURS, \n",
    "#                              mp_drawing.DrawingSpec(color=(80,110,10), thickness=1, circle_radius=1), \n",
    "#                              mp_drawing.DrawingSpec(color=(80,256,121), thickness=1, circle_radius=1)\n",
    "#                              ) \n",
    "#     # Draw pose connections\n",
    "#     mp_drawing.draw_landmarks(image, results.pose_landmarks, mp_holistic.POSE_CONNECTIONS,\n",
    "#                              mp_drawing.DrawingSpec(color=(80,22,10), thickness=2, circle_radius=4), \n",
    "#                              mp_drawing.DrawingSpec(color=(80,44,121), thickness=2, circle_radius=2)\n",
    "#                              ) \n",
    "    # Draw left hand connections\n",
    "    mp_drawing.draw_landmarks(image, results.left_hand_landmarks, mp_holistic.HAND_CONNECTIONS, \n",
    "                             mp_drawing.DrawingSpec(color=(121,22,76), thickness=2, circle_radius=4), \n",
    "                             mp_drawing.DrawingSpec(color=(121,44,250), thickness=2, circle_radius=2)\n",
    "                             ) \n",
    "    # Draw right hand connections  \n",
    "    mp_drawing.draw_landmarks(image, results.right_hand_landmarks, mp_holistic.HAND_CONNECTIONS, \n",
    "                             mp_drawing.DrawingSpec(color=(245,117,66), thickness=2, circle_radius=4), \n",
    "                             mp_drawing.DrawingSpec(color=(245,66,230), thickness=2, circle_radius=2)\n",
    "                             )"
   ]
  },
  {
   "cell_type": "code",
   "execution_count": null,
   "id": "717cb8f8",
   "metadata": {},
   "outputs": [],
   "source": []
  },
  {
   "cell_type": "code",
   "execution_count": 34,
   "id": "58ac5f54",
   "metadata": {},
   "outputs": [],
   "source": [
    "cap = cv2.VideoCapture(0) #creating video capture object\n",
    "## Set mediapipe model\n",
    "current = time.time()\n",
    "with mp_holistic.Holistic(min_detection_confidence=0.5, min_tracking_confidence=0.5) as holistic:\n",
    "    while cap.isOpened():\n",
    "        #reading feed current frame\n",
    "        ret,frame = cap.read() \n",
    "\n",
    "        #make detection\n",
    "        image, results = mediapipe_detection(frame, holistic)\n",
    "#         print(results)\n",
    "\n",
    "        # Draw landmarks\n",
    "        draw_styled_landmarks(image, results)\n",
    "\n",
    "        #showing to screen\n",
    "        cv2.rectangle(image,(50,100), (300,350),(255,0,0), 2)\n",
    "        cv2.imshow(\"Open Cv\",image) \n",
    "        present = time.time()\n",
    "        if present - current > 10:\n",
    "            break\n",
    "        if cv2.waitKey(10) & 0xFF == ord('q'): #wait for 34 milli second to check if q is pressed on keyboard\n",
    "            break \n",
    "    cap.release() #release our webcame\n",
    "    cv2.destroyAllWindows()#destroy all windows opened till now"
   ]
  },
  {
   "cell_type": "markdown",
   "id": "117c1743",
   "metadata": {},
   "source": [
    "# Extract key points"
   ]
  },
  {
   "cell_type": "code",
   "execution_count": 6,
   "id": "beab483e",
   "metadata": {},
   "outputs": [],
   "source": [
    "#  len(results.left_hand_landmarks.landmark),len(results.pose_landmarks.landmark),len(results.face_landmarks.landmark)"
   ]
  },
  {
   "cell_type": "code",
   "execution_count": 7,
   "id": "6cc38301",
   "metadata": {},
   "outputs": [],
   "source": [
    "# len(results.left_hand_landmarks.landmark),len(results.right_hand_landmarks.landmark)"
   ]
  },
  {
   "cell_type": "code",
   "execution_count": 13,
   "id": "e1d37830",
   "metadata": {},
   "outputs": [],
   "source": [
    "# pose = []\n",
    "# for res in results.pose_landmarks.landmark:\n",
    "#     test = np.array([res.x, res.y, res.z, res.visibility])\n",
    "#     pose.append(test)"
   ]
  },
  {
   "cell_type": "code",
   "execution_count": 8,
   "id": "8f68093b",
   "metadata": {},
   "outputs": [],
   "source": [
    "# print(\"hello\") if False else print(\"good\")\n",
    "# 468*3,33*4,21*3"
   ]
  },
  {
   "cell_type": "code",
   "execution_count": 15,
   "id": "c7740f36",
   "metadata": {},
   "outputs": [],
   "source": [
    "# results.left_hand_landmarks.landmark[0],(results.pose_landmarks.landmark[0]),(results.face_landmarks.landmark[0])"
   ]
  },
  {
   "cell_type": "code",
   "execution_count": 16,
   "id": "ab18ecca",
   "metadata": {},
   "outputs": [],
   "source": [
    "# pose = np.array([[res.x,res.y,res.z] for res in results.left_hand_landmarks.landmark ])"
   ]
  },
  {
   "cell_type": "code",
   "execution_count": 9,
   "id": "c013a407",
   "metadata": {},
   "outputs": [],
   "source": [
    "# pose = np.array([[res.x, res.y, res.z, res.visibility] for res in results.pose_landmarks.landmark]).flatten() if results.pose_landmarks else np.zeros(132)\n",
    "# face = np.array([[res.x, res.y, res.z] for res in results.face_landmarks.landmark]).flatten() if results.face_landmarks else np.zeros(1404)\n",
    "# lh = np.array([[res.x, res.y, res.z] for res in results.left_hand_landmarks.landmark]).flatten() if results.left_hand_landmarks else np.zeros(21*3)\n",
    "# rh = np.array([[res.x, res.y, res.z] for res in results.right_hand_landmarks.landmark]).flatten() if results.right_hand_landmarks else np.zeros(21*3)"
   ]
  },
  {
   "cell_type": "code",
   "execution_count": 10,
   "id": "2bf0c278",
   "metadata": {},
   "outputs": [],
   "source": [
    "def extract_keypoints(results):\n",
    "#     pose = np.array([[res.x, res.y, res.z, res.visibility] for res in results.pose_landmarks.landmark]).flatten() if results.pose_landmarks else np.zeros(33*4)\n",
    "#     face = np.array([[res.x, res.y, res.z] for res in results.face_landmarks.landmark]).flatten() if results.face_landmarks else np.zeros(468*3)\n",
    "    lh = np.array([[res.x, res.y, res.z] for res in results.left_hand_landmarks.landmark]).flatten() if results.left_hand_landmarks else np.zeros(21*3)\n",
    "    rh = np.array([[res.x, res.y, res.z] for res in results.right_hand_landmarks.landmark]).flatten() if results.right_hand_landmarks else np.zeros(21*3)\n",
    "    return np.concatenate([lh, rh])"
   ]
  },
  {
   "cell_type": "code",
   "execution_count": 11,
   "id": "e4e34e11",
   "metadata": {},
   "outputs": [],
   "source": [
    "# test = extract_keypoints(results)\n",
    "# print(len(test))"
   ]
  },
  {
   "cell_type": "code",
   "execution_count": 13,
   "id": "ed092e39",
   "metadata": {},
   "outputs": [],
   "source": [
    "# np.save('0',test)"
   ]
  },
  {
   "cell_type": "code",
   "execution_count": 14,
   "id": "6419e8c6",
   "metadata": {},
   "outputs": [],
   "source": [
    "# np.load('0.npy')"
   ]
  },
  {
   "cell_type": "code",
   "execution_count": null,
   "id": "bb60b476",
   "metadata": {},
   "outputs": [],
   "source": []
  },
  {
   "cell_type": "markdown",
   "id": "8c7085e0",
   "metadata": {},
   "source": [
    "# 4. Setup folder for collection"
   ]
  },
  {
   "cell_type": "code",
   "execution_count": 15,
   "id": "2cb3cb19",
   "metadata": {},
   "outputs": [],
   "source": [
    "\n",
    "# Path for exported data, numpy arrays\n",
    "DATA_PATH = os.path.join('MP_Data') \n",
    "\n",
    "# Actions that we try to detect\n",
    "actions = np.array(['A', 'B', 'C','D','E','F','G','H','I','J','-'])\n",
    "\n",
    "# Thirty videos worth of data\n",
    "no_sequences = 30\n",
    "\n",
    "# Videos are going to be 30 frames in length\n",
    "sequence_length = 30\n",
    "\n",
    "# Folder start\n",
    "start_folder = 30"
   ]
  },
  {
   "cell_type": "code",
   "execution_count": 41,
   "id": "e9748eb7",
   "metadata": {},
   "outputs": [],
   "source": [
    "# run this only once because folder are created permanentley\n",
    "for action in actions: \n",
    "    for sequence in range(no_sequences):\n",
    "        try: \n",
    "            os.makedirs(os.path.join(DATA_PATH, action, str(sequence)))\n",
    "        except:\n",
    "            pass"
   ]
  },
  {
   "cell_type": "code",
   "execution_count": 16,
   "id": "df9bd96e",
   "metadata": {},
   "outputs": [],
   "source": [
    "for sequence in range(no_sequences):\n",
    "    try: \n",
    "        os.makedirs(os.path.join(DATA_PATH,'-', str(sequence)))\n",
    "    except:\n",
    "        pass"
   ]
  },
  {
   "cell_type": "code",
   "execution_count": 17,
   "id": "fe012050",
   "metadata": {},
   "outputs": [],
   "source": [
    "cap = cv2.VideoCapture(0)\n",
    "# Set mediapipe model \n",
    "with mp_holistic.Holistic(min_detection_confidence=0.5, min_tracking_confidence=0.5) as holistic:\n",
    "    \n",
    "    # NEW LOOP\n",
    "    # Loop through actions\n",
    "    for action in ['-']:\n",
    "        # Loop through sequences aka videos\n",
    "        for sequence in range(no_sequences):\n",
    "            # Loop through video length aka sequence length\n",
    "            for frame_num in range(sequence_length):\n",
    "\n",
    "                # Read feed\n",
    "                ret, frame = cap.read()\n",
    "\n",
    "                # Make detections\n",
    "                image, results = mediapipe_detection(frame, holistic)\n",
    "#                 print(results)\n",
    "\n",
    "                # Draw landmarks\n",
    "                draw_styled_landmarks(image, results)\n",
    "                # NEW Apply wait logic\n",
    "                if frame_num == 0: \n",
    "                    cv2.putText(image, 'STARTING COLLECTION', (120,200), \n",
    "                               cv2.FONT_HERSHEY_SIMPLEX, 1, (0,255, 0), 4, cv2.LINE_AA)\n",
    "                    cv2.putText(image, 'Collecting frames for {} Video Number {}'.format(action, sequence), (15,12), \n",
    "                               cv2.FONT_HERSHEY_SIMPLEX, 0.5, (0, 0, 255), 1, cv2.LINE_AA)\n",
    "                    # Show to screen\n",
    "                    cv2.imshow('OpenCV Feed', image)\n",
    "                    cv2.waitKey(5000)\n",
    "                else: \n",
    "                    cv2.putText(image, 'Collecting frames for {} Video Number {}'.format(action, sequence), (15,12), \n",
    "                               cv2.FONT_HERSHEY_SIMPLEX, 0.5, (0, 0, 255), 1, cv2.LINE_AA)\n",
    "                    # Show to screen\n",
    "                    cv2.rectangle(image,(50,100), (300,350),(255,0,0), 2)\n",
    "                    cv2.imshow('OpenCV Feed', image)\n",
    "                \n",
    "                # NEW Export keypoints\n",
    "                keypoints = extract_keypoints(results)\n",
    "                npy_path = os.path.join(DATA_PATH, action, str(sequence), str(frame_num))\n",
    "                np.save(npy_path, keypoints)\n",
    "\n",
    "                # To break out of loop press q\n",
    "                if cv2.waitKey(10) & 0xFF == ord('q'):\n",
    "                    break\n",
    "                    \n",
    "    cap.release()\n",
    "    cv2.destroyAllWindows()"
   ]
  },
  {
   "cell_type": "markdown",
   "id": "69a95c63",
   "metadata": {},
   "source": [
    "# 5. collect keypoint for training and testing"
   ]
  },
  {
   "cell_type": "code",
   "execution_count": 42,
   "id": "fd09eae7",
   "metadata": {
    "collapsed": true
   },
   "outputs": [
    {
     "ename": "FileNotFoundError",
     "evalue": "[Errno 2] No such file or directory: 'MP_Data\\\\  \\\\0\\\\0.npy'",
     "output_type": "error",
     "traceback": [
      "\u001b[1;31m---------------------------------------------------------------------------\u001b[0m",
      "\u001b[1;31mFileNotFoundError\u001b[0m                         Traceback (most recent call last)",
      "\u001b[1;32m<ipython-input-42-6a5653487b3a>\u001b[0m in \u001b[0;36m<module>\u001b[1;34m\u001b[0m\n\u001b[0;32m     39\u001b[0m                 \u001b[0mkeypoints\u001b[0m \u001b[1;33m=\u001b[0m \u001b[0mextract_keypoints\u001b[0m\u001b[1;33m(\u001b[0m\u001b[0mresults\u001b[0m\u001b[1;33m)\u001b[0m\u001b[1;33m\u001b[0m\u001b[1;33m\u001b[0m\u001b[0m\n\u001b[0;32m     40\u001b[0m                 \u001b[0mnpy_path\u001b[0m \u001b[1;33m=\u001b[0m \u001b[0mos\u001b[0m\u001b[1;33m.\u001b[0m\u001b[0mpath\u001b[0m\u001b[1;33m.\u001b[0m\u001b[0mjoin\u001b[0m\u001b[1;33m(\u001b[0m\u001b[0mDATA_PATH\u001b[0m\u001b[1;33m,\u001b[0m \u001b[0maction\u001b[0m\u001b[1;33m,\u001b[0m \u001b[0mstr\u001b[0m\u001b[1;33m(\u001b[0m\u001b[0msequence\u001b[0m\u001b[1;33m)\u001b[0m\u001b[1;33m,\u001b[0m \u001b[0mstr\u001b[0m\u001b[1;33m(\u001b[0m\u001b[0mframe_num\u001b[0m\u001b[1;33m)\u001b[0m\u001b[1;33m)\u001b[0m\u001b[1;33m\u001b[0m\u001b[1;33m\u001b[0m\u001b[0m\n\u001b[1;32m---> 41\u001b[1;33m                 \u001b[0mnp\u001b[0m\u001b[1;33m.\u001b[0m\u001b[0msave\u001b[0m\u001b[1;33m(\u001b[0m\u001b[0mnpy_path\u001b[0m\u001b[1;33m,\u001b[0m \u001b[0mkeypoints\u001b[0m\u001b[1;33m)\u001b[0m\u001b[1;33m\u001b[0m\u001b[1;33m\u001b[0m\u001b[0m\n\u001b[0m\u001b[0;32m     42\u001b[0m \u001b[1;33m\u001b[0m\u001b[0m\n\u001b[0;32m     43\u001b[0m                 \u001b[1;31m# To break out of loop press q\u001b[0m\u001b[1;33m\u001b[0m\u001b[1;33m\u001b[0m\u001b[1;33m\u001b[0m\u001b[0m\n",
      "\u001b[1;32m<__array_function__ internals>\u001b[0m in \u001b[0;36msave\u001b[1;34m(*args, **kwargs)\u001b[0m\n",
      "\u001b[1;32m~\\anaconda3\\envs\\py37gpu\\lib\\site-packages\\numpy\\lib\\npyio.py\u001b[0m in \u001b[0;36msave\u001b[1;34m(file, arr, allow_pickle, fix_imports)\u001b[0m\n\u001b[0;32m    539\u001b[0m         \u001b[1;32mif\u001b[0m \u001b[1;32mnot\u001b[0m \u001b[0mfile\u001b[0m\u001b[1;33m.\u001b[0m\u001b[0mendswith\u001b[0m\u001b[1;33m(\u001b[0m\u001b[1;34m'.npy'\u001b[0m\u001b[1;33m)\u001b[0m\u001b[1;33m:\u001b[0m\u001b[1;33m\u001b[0m\u001b[1;33m\u001b[0m\u001b[0m\n\u001b[0;32m    540\u001b[0m             \u001b[0mfile\u001b[0m \u001b[1;33m=\u001b[0m \u001b[0mfile\u001b[0m \u001b[1;33m+\u001b[0m \u001b[1;34m'.npy'\u001b[0m\u001b[1;33m\u001b[0m\u001b[1;33m\u001b[0m\u001b[0m\n\u001b[1;32m--> 541\u001b[1;33m         \u001b[0mfid\u001b[0m \u001b[1;33m=\u001b[0m \u001b[0mopen\u001b[0m\u001b[1;33m(\u001b[0m\u001b[0mfile\u001b[0m\u001b[1;33m,\u001b[0m \u001b[1;34m\"wb\"\u001b[0m\u001b[1;33m)\u001b[0m\u001b[1;33m\u001b[0m\u001b[1;33m\u001b[0m\u001b[0m\n\u001b[0m\u001b[0;32m    542\u001b[0m         \u001b[0mown_fid\u001b[0m \u001b[1;33m=\u001b[0m \u001b[1;32mTrue\u001b[0m\u001b[1;33m\u001b[0m\u001b[1;33m\u001b[0m\u001b[0m\n\u001b[0;32m    543\u001b[0m \u001b[1;33m\u001b[0m\u001b[0m\n",
      "\u001b[1;31mFileNotFoundError\u001b[0m: [Errno 2] No such file or directory: 'MP_Data\\\\  \\\\0\\\\0.npy'"
     ]
    }
   ],
   "source": [
    "cap = cv2.VideoCapture(0)\n",
    "# Set mediapipe model \n",
    "with mp_holistic.Holistic(min_detection_confidence=0.5, min_tracking_confidence=0.5) as holistic:\n",
    "    \n",
    "    # NEW LOOP\n",
    "    # Loop through actions\n",
    "    for action in actions:\n",
    "        # Loop through sequences aka videos\n",
    "        for sequence in range(no_sequences):\n",
    "            # Loop through video length aka sequence length\n",
    "            for frame_num in range(sequence_length):\n",
    "\n",
    "                # Read feed\n",
    "                ret, frame = cap.read()\n",
    "\n",
    "                # Make detections\n",
    "                image, results = mediapipe_detection(frame, holistic)\n",
    "#                 print(results)\n",
    "\n",
    "                # Draw landmarks\n",
    "                draw_styled_landmarks(image, results)\n",
    "                # NEW Apply wait logic\n",
    "                if frame_num == 0: \n",
    "                    cv2.putText(image, 'STARTING COLLECTION', (120,200), \n",
    "                               cv2.FONT_HERSHEY_SIMPLEX, 1, (0,255, 0), 4, cv2.LINE_AA)\n",
    "                    cv2.putText(image, 'Collecting frames for {} Video Number {}'.format(action, sequence), (15,12), \n",
    "                               cv2.FONT_HERSHEY_SIMPLEX, 0.5, (0, 0, 255), 1, cv2.LINE_AA)\n",
    "                    # Show to screen\n",
    "                    cv2.imshow('OpenCV Feed', image)\n",
    "                    cv2.waitKey(5000)\n",
    "                else: \n",
    "                    cv2.putText(image, 'Collecting frames for {} Video Number {}'.format(action, sequence), (15,12), \n",
    "                               cv2.FONT_HERSHEY_SIMPLEX, 0.5, (0, 0, 255), 1, cv2.LINE_AA)\n",
    "                    # Show to screen\n",
    "                    cv2.rectangle(image,(50,100), (300,350),(255,0,0), 2)\n",
    "                    cv2.imshow('OpenCV Feed', image)\n",
    "                \n",
    "                # NEW Export keypoints\n",
    "                keypoints = extract_keypoints(results)\n",
    "                npy_path = os.path.join(DATA_PATH, action, str(sequence), str(frame_num))\n",
    "                np.save(npy_path, keypoints)\n",
    "\n",
    "                # To break out of loop press q\n",
    "                if cv2.waitKey(10) & 0xFF == ord('q'):\n",
    "                    break\n",
    "                    \n",
    "    cap.release()\n",
    "    cv2.destroyAllWindows()"
   ]
  },
  {
   "cell_type": "code",
   "execution_count": 18,
   "id": "6fd6e047",
   "metadata": {},
   "outputs": [],
   "source": [
    "cap.release()\n",
    "cv2.destroyAllWindows()"
   ]
  },
  {
   "cell_type": "markdown",
   "id": "249c743f",
   "metadata": {},
   "source": [
    "# 6. Preprocess data create labels and features"
   ]
  },
  {
   "cell_type": "code",
   "execution_count": 16,
   "id": "d0592a59",
   "metadata": {},
   "outputs": [],
   "source": [
    "from sklearn.model_selection import train_test_split\n",
    "from tensorflow.keras.utils import to_categorical"
   ]
  },
  {
   "cell_type": "code",
   "execution_count": 17,
   "id": "f46dd721",
   "metadata": {},
   "outputs": [],
   "source": [
    "label_map = {label:num for num, label in enumerate(actions)}"
   ]
  },
  {
   "cell_type": "code",
   "execution_count": 18,
   "id": "bf0ad4e7",
   "metadata": {},
   "outputs": [
    {
     "data": {
      "text/plain": [
       "{'A': 0,\n",
       " 'B': 1,\n",
       " 'C': 2,\n",
       " 'D': 3,\n",
       " 'E': 4,\n",
       " 'F': 5,\n",
       " 'G': 6,\n",
       " 'H': 7,\n",
       " 'I': 8,\n",
       " 'J': 9,\n",
       " '-': 10}"
      ]
     },
     "execution_count": 18,
     "metadata": {},
     "output_type": "execute_result"
    }
   ],
   "source": [
    "label_map"
   ]
  },
  {
   "cell_type": "code",
   "execution_count": 22,
   "id": "6034d948",
   "metadata": {},
   "outputs": [],
   "source": [
    "sequences, labels = [], []\n",
    "for action in actions:\n",
    "    for sequence in range(no_sequences):\n",
    "        window = []\n",
    "        for frame_num in range(sequence_length):\n",
    "            res = np.load(os.path.join(DATA_PATH, action, str(sequence), \"{}.npy\".format(frame_num)))\n",
    "            window.append(res)\n",
    "        sequences.append(window)\n",
    "        labels.append(label_map[action])"
   ]
  },
  {
   "cell_type": "code",
   "execution_count": 23,
   "id": "7e4b90b9",
   "metadata": {},
   "outputs": [
    {
     "data": {
      "text/plain": [
       "(330, 30, 126)"
      ]
     },
     "execution_count": 23,
     "metadata": {},
     "output_type": "execute_result"
    }
   ],
   "source": [
    "np.array(sequences).shape"
   ]
  },
  {
   "cell_type": "code",
   "execution_count": 24,
   "id": "3dc5ceab",
   "metadata": {},
   "outputs": [
    {
     "data": {
      "text/plain": [
       "(330,)"
      ]
     },
     "execution_count": 24,
     "metadata": {},
     "output_type": "execute_result"
    }
   ],
   "source": [
    "np.array(labels).shape"
   ]
  },
  {
   "cell_type": "code",
   "execution_count": 25,
   "id": "167a2f22",
   "metadata": {},
   "outputs": [],
   "source": [
    "X = np.array(sequences)"
   ]
  },
  {
   "cell_type": "code",
   "execution_count": 26,
   "id": "8d13b820",
   "metadata": {},
   "outputs": [
    {
     "data": {
      "text/plain": [
       "(330, 30, 126)"
      ]
     },
     "execution_count": 26,
     "metadata": {},
     "output_type": "execute_result"
    }
   ],
   "source": [
    "X.shape"
   ]
  },
  {
   "cell_type": "code",
   "execution_count": 27,
   "id": "88155225",
   "metadata": {},
   "outputs": [],
   "source": [
    "y = to_categorical(labels).astype(int) #one hot encoding to convert categorial variable"
   ]
  },
  {
   "cell_type": "code",
   "execution_count": 28,
   "id": "bda8a7a6",
   "metadata": {},
   "outputs": [],
   "source": [
    "X_train, X_test, y_train, y_test = train_test_split(X, y, test_size=0.05)"
   ]
  },
  {
   "cell_type": "code",
   "execution_count": 29,
   "id": "0501104a",
   "metadata": {},
   "outputs": [
    {
     "data": {
      "text/plain": [
       "(17, 11)"
      ]
     },
     "execution_count": 29,
     "metadata": {},
     "output_type": "execute_result"
    }
   ],
   "source": [
    "y_test.shape"
   ]
  },
  {
   "cell_type": "code",
   "execution_count": null,
   "id": "0fcd9008",
   "metadata": {},
   "outputs": [],
   "source": []
  },
  {
   "cell_type": "markdown",
   "id": "6d853431",
   "metadata": {},
   "source": [
    "# 7  Build and Train LSTM Neural Network"
   ]
  },
  {
   "cell_type": "code",
   "execution_count": 19,
   "id": "f8709c6b",
   "metadata": {},
   "outputs": [],
   "source": [
    "from tensorflow.keras.models import Sequential\n",
    "from tensorflow.keras.layers import LSTM, Dense\n",
    "from tensorflow.keras.callbacks import TensorBoard"
   ]
  },
  {
   "cell_type": "code",
   "execution_count": 20,
   "id": "4732eb8c",
   "metadata": {},
   "outputs": [],
   "source": [
    "log_dir = os.path.join('Logs4')\n",
    "tb_callback = TensorBoard(log_dir=log_dir)"
   ]
  },
  {
   "cell_type": "code",
   "execution_count": 21,
   "id": "2508297a",
   "metadata": {},
   "outputs": [],
   "source": [
    "model = Sequential()\n"
   ]
  },
  {
   "cell_type": "code",
   "execution_count": 22,
   "id": "65b835a6",
   "metadata": {},
   "outputs": [
    {
     "name": "stdout",
     "output_type": "stream",
     "text": [
      "WARNING:tensorflow:Layer lstm will not use cuDNN kernel since it doesn't meet the cuDNN kernel criteria. It will use generic GPU kernel as fallback when running on GPU\n"
     ]
    }
   ],
   "source": [
    "model.add(LSTM(64, return_sequences=True, activation='relu', input_shape=(30,126)))\n"
   ]
  },
  {
   "cell_type": "code",
   "execution_count": 23,
   "id": "2ee18ffd",
   "metadata": {},
   "outputs": [
    {
     "name": "stdout",
     "output_type": "stream",
     "text": [
      "WARNING:tensorflow:Layer lstm_1 will not use cuDNN kernel since it doesn't meet the cuDNN kernel criteria. It will use generic GPU kernel as fallback when running on GPU\n"
     ]
    }
   ],
   "source": [
    "model.add(LSTM(128, return_sequences=True, activation='relu'))\n"
   ]
  },
  {
   "cell_type": "code",
   "execution_count": 24,
   "id": "34dbf5d5",
   "metadata": {},
   "outputs": [
    {
     "name": "stdout",
     "output_type": "stream",
     "text": [
      "WARNING:tensorflow:Layer lstm_2 will not use cuDNN kernel since it doesn't meet the cuDNN kernel criteria. It will use generic GPU kernel as fallback when running on GPU\n"
     ]
    }
   ],
   "source": [
    "model.add(LSTM(64, return_sequences=False, activation='relu'))\n"
   ]
  },
  {
   "cell_type": "code",
   "execution_count": 25,
   "id": "35c60da5",
   "metadata": {},
   "outputs": [],
   "source": [
    "model.add(Dense(64, activation='relu'))"
   ]
  },
  {
   "cell_type": "code",
   "execution_count": 26,
   "id": "45070b19",
   "metadata": {},
   "outputs": [],
   "source": [
    "model.add(Dense(128, activation='relu'))"
   ]
  },
  {
   "cell_type": "code",
   "execution_count": 27,
   "id": "89f60fe5",
   "metadata": {},
   "outputs": [],
   "source": [
    "model.add(Dense(64, activation='relu'))"
   ]
  },
  {
   "cell_type": "code",
   "execution_count": 28,
   "id": "74fb2261",
   "metadata": {},
   "outputs": [],
   "source": [
    "model.add(Dense(32, activation='relu'))\n"
   ]
  },
  {
   "cell_type": "code",
   "execution_count": 29,
   "id": "420cb244",
   "metadata": {},
   "outputs": [],
   "source": [
    "model.add(Dense(actions.shape[0], activation='softmax'))"
   ]
  },
  {
   "cell_type": "code",
   "execution_count": 20,
   "id": "0d829aa5",
   "metadata": {},
   "outputs": [],
   "source": [
    "res = [.7, 0.2, 0.1,0,0,0,0,0,0,0,0]"
   ]
  },
  {
   "cell_type": "code",
   "execution_count": 21,
   "id": "62a3c028",
   "metadata": {},
   "outputs": [
    {
     "data": {
      "text/plain": [
       "'A'"
      ]
     },
     "execution_count": 21,
     "metadata": {},
     "output_type": "execute_result"
    }
   ],
   "source": [
    "\n",
    "actions[np.argmax(res)]"
   ]
  },
  {
   "cell_type": "code",
   "execution_count": 22,
   "id": "2e139f74",
   "metadata": {},
   "outputs": [],
   "source": [
    "model.compile(optimizer='Adam', loss='categorical_crossentropy', metrics=['categorical_accuracy'])"
   ]
  },
  {
   "cell_type": "code",
   "execution_count": 23,
   "id": "445e5965",
   "metadata": {},
   "outputs": [
    {
     "name": "stdout",
     "output_type": "stream",
     "text": [
      "Model: \"sequential\"\n",
      "_________________________________________________________________\n",
      "Layer (type)                 Output Shape              Param #   \n",
      "=================================================================\n",
      "lstm (LSTM)                  (None, 30, 64)            48896     \n",
      "_________________________________________________________________\n",
      "lstm_1 (LSTM)                (None, 30, 128)           98816     \n",
      "_________________________________________________________________\n",
      "lstm_2 (LSTM)                (None, 64)                49408     \n",
      "_________________________________________________________________\n",
      "dense (Dense)                (None, 64)                4160      \n",
      "_________________________________________________________________\n",
      "dense_1 (Dense)              (None, 128)               8320      \n",
      "_________________________________________________________________\n",
      "dense_2 (Dense)              (None, 64)                8256      \n",
      "_________________________________________________________________\n",
      "dense_3 (Dense)              (None, 32)                2080      \n",
      "_________________________________________________________________\n",
      "dense_4 (Dense)              (None, 11)                363       \n",
      "=================================================================\n",
      "Total params: 220,299\n",
      "Trainable params: 220,299\n",
      "Non-trainable params: 0\n",
      "_________________________________________________________________\n"
     ]
    }
   ],
   "source": [
    "model.summary()"
   ]
  },
  {
   "cell_type": "code",
   "execution_count": 60,
   "id": "3858e23d",
   "metadata": {
    "collapsed": true
   },
   "outputs": [
    {
     "name": "stdout",
     "output_type": "stream",
     "text": [
      "Epoch 1/500\n",
      "10/10 [==============================] - 5s 485ms/step - loss: 0.7585 - categorical_accuracy: 0.7891\n",
      "Epoch 2/500\n",
      "10/10 [==============================] - 4s 360ms/step - loss: 0.7494 - categorical_accuracy: 0.8083\n",
      "Epoch 3/500\n",
      "10/10 [==============================] - 3s 340ms/step - loss: 0.6035 - categorical_accuracy: 0.8339\n",
      "Epoch 4/500\n",
      "10/10 [==============================] - 4s 358ms/step - loss: 0.8342 - categorical_accuracy: 0.7157\n",
      "Epoch 5/500\n",
      "10/10 [==============================] - 3s 350ms/step - loss: 0.6558 - categorical_accuracy: 0.7891\n",
      "Epoch 6/500\n",
      "10/10 [==============================] - 4s 382ms/step - loss: 0.6168 - categorical_accuracy: 0.7764\n",
      "Epoch 7/500\n",
      "10/10 [==============================] - 4s 390ms/step - loss: 0.4783 - categorical_accuracy: 0.8722\n",
      "Epoch 8/500\n",
      "10/10 [==============================] - 4s 391ms/step - loss: 0.3523 - categorical_accuracy: 0.9073\n",
      "Epoch 9/500\n",
      "10/10 [==============================] - 4s 406ms/step - loss: 0.3163 - categorical_accuracy: 0.9073\n",
      "Epoch 10/500\n",
      "10/10 [==============================] - 4s 414ms/step - loss: 0.4000 - categorical_accuracy: 0.8594\n",
      "Epoch 11/500\n",
      "10/10 [==============================] - 4s 405ms/step - loss: 0.5699 - categorical_accuracy: 0.8051\n",
      "Epoch 12/500\n",
      "10/10 [==============================] - 4s 392ms/step - loss: 0.4665 - categorical_accuracy: 0.8466\n",
      "Epoch 13/500\n",
      "10/10 [==============================] - 4s 395ms/step - loss: 0.4914 - categorical_accuracy: 0.8466\n",
      "Epoch 14/500\n",
      "10/10 [==============================] - 4s 397ms/step - loss: 0.5191 - categorical_accuracy: 0.8179\n",
      "Epoch 15/500\n",
      "10/10 [==============================] - 4s 393ms/step - loss: 0.6025 - categorical_accuracy: 0.7764\n",
      "Epoch 16/500\n",
      "10/10 [==============================] - 4s 377ms/step - loss: 0.4037 - categorical_accuracy: 0.8978\n",
      "Epoch 17/500\n",
      "10/10 [==============================] - 4s 378ms/step - loss: 0.5713 - categorical_accuracy: 0.8818\n",
      "Epoch 18/500\n",
      "10/10 [==============================] - 4s 381ms/step - loss: 0.5018 - categorical_accuracy: 0.8818\n",
      "Epoch 19/500\n",
      "10/10 [==============================] - 4s 390ms/step - loss: 0.4418 - categorical_accuracy: 0.9010\n",
      "Epoch 20/500\n",
      "10/10 [==============================] - 4s 382ms/step - loss: 0.2723 - categorical_accuracy: 0.9297\n",
      "Epoch 21/500\n",
      "10/10 [==============================] - 4s 415ms/step - loss: 0.2427 - categorical_accuracy: 0.9233\n",
      "Epoch 22/500\n",
      "10/10 [==============================] - 5s 461ms/step - loss: 0.3804 - categorical_accuracy: 0.8690\n",
      "Epoch 23/500\n",
      "10/10 [==============================] - 4s 428ms/step - loss: 0.5117 - categorical_accuracy: 0.8083\n",
      "Epoch 24/500\n",
      "10/10 [==============================] - 4s 422ms/step - loss: 0.3590 - categorical_accuracy: 0.8946\n",
      "Epoch 25/500\n",
      "10/10 [==============================] - 5s 460ms/step - loss: 0.3008 - categorical_accuracy: 0.9201\n",
      "Epoch 26/500\n",
      "10/10 [==============================] - 4s 407ms/step - loss: 0.2636 - categorical_accuracy: 0.9169\n",
      "Epoch 27/500\n",
      "10/10 [==============================] - 4s 430ms/step - loss: 0.2927 - categorical_accuracy: 0.9137\n",
      "Epoch 28/500\n",
      "10/10 [==============================] - 4s 430ms/step - loss: 0.4230 - categorical_accuracy: 0.8690\n",
      "Epoch 29/500\n",
      "10/10 [==============================] - 4s 420ms/step - loss: 0.3116 - categorical_accuracy: 0.9201\n",
      "Epoch 30/500\n",
      "10/10 [==============================] - 4s 410ms/step - loss: 0.2368 - categorical_accuracy: 0.9265\n",
      "Epoch 31/500\n",
      "10/10 [==============================] - 4s 397ms/step - loss: 0.2183 - categorical_accuracy: 0.9393\n",
      "Epoch 32/500\n",
      "10/10 [==============================] - 4s 418ms/step - loss: 0.2302 - categorical_accuracy: 0.9297\n",
      "Epoch 33/500\n",
      "10/10 [==============================] - 4s 416ms/step - loss: 0.2262 - categorical_accuracy: 0.9361\n",
      "Epoch 34/500\n",
      "10/10 [==============================] - 4s 408ms/step - loss: 0.2718 - categorical_accuracy: 0.9201\n",
      "Epoch 35/500\n",
      "10/10 [==============================] - 4s 410ms/step - loss: 0.4135 - categorical_accuracy: 0.8754\n",
      "Epoch 36/500\n",
      "10/10 [==============================] - 4s 423ms/step - loss: 0.5117 - categorical_accuracy: 0.8339\n",
      "Epoch 37/500\n",
      "10/10 [==============================] - 4s 427ms/step - loss: 0.3664 - categorical_accuracy: 0.8850\n",
      "Epoch 38/500\n",
      "10/10 [==============================] - 4s 396ms/step - loss: 0.2616 - categorical_accuracy: 0.9297\n",
      "Epoch 39/500\n",
      "10/10 [==============================] - 4s 391ms/step - loss: 0.1939 - categorical_accuracy: 0.9553\n",
      "Epoch 40/500\n",
      "10/10 [==============================] - 4s 376ms/step - loss: 0.1983 - categorical_accuracy: 0.9457\n",
      "Epoch 41/500\n",
      "10/10 [==============================] - 4s 383ms/step - loss: 0.3106 - categorical_accuracy: 0.8978\n",
      "Epoch 42/500\n",
      "10/10 [==============================] - 4s 371ms/step - loss: 0.9109 - categorical_accuracy: 0.7572\n",
      "Epoch 43/500\n",
      "10/10 [==============================] - 4s 378ms/step - loss: 0.7707 - categorical_accuracy: 0.6869\n",
      "Epoch 44/500\n",
      "10/10 [==============================] - 4s 370ms/step - loss: 0.4564 - categorical_accuracy: 0.8275\n",
      "Epoch 45/500\n",
      "10/10 [==============================] - 4s 362ms/step - loss: 0.2962 - categorical_accuracy: 0.9329\n",
      "Epoch 46/500\n",
      "10/10 [==============================] - 4s 361ms/step - loss: 0.2357 - categorical_accuracy: 0.9489\n",
      "Epoch 47/500\n",
      "10/10 [==============================] - 4s 360ms/step - loss: 0.1890 - categorical_accuracy: 0.9489\n",
      "Epoch 48/500\n",
      "10/10 [==============================] - 4s 402ms/step - loss: 0.1875 - categorical_accuracy: 0.9489\n",
      "Epoch 49/500\n",
      "10/10 [==============================] - 4s 402ms/step - loss: 0.1698 - categorical_accuracy: 0.9489\n",
      "Epoch 50/500\n",
      "10/10 [==============================] - 4s 391ms/step - loss: 0.1560 - categorical_accuracy: 0.9649\n",
      "Epoch 51/500\n",
      "10/10 [==============================] - 4s 393ms/step - loss: 0.1799 - categorical_accuracy: 0.9425\n",
      "Epoch 52/500\n",
      "10/10 [==============================] - 4s 414ms/step - loss: 0.1468 - categorical_accuracy: 0.9617\n",
      "Epoch 53/500\n",
      "10/10 [==============================] - 4s 405ms/step - loss: 0.5358 - categorical_accuracy: 0.8530\n",
      "Epoch 54/500\n",
      "10/10 [==============================] - 4s 403ms/step - loss: 0.5551 - categorical_accuracy: 0.8339\n",
      "Epoch 55/500\n",
      "10/10 [==============================] - 4s 438ms/step - loss: 0.2769 - categorical_accuracy: 0.9233\n",
      "Epoch 56/500\n",
      "10/10 [==============================] - 4s 445ms/step - loss: 0.2476 - categorical_accuracy: 0.9425\n",
      "Epoch 57/500\n",
      "10/10 [==============================] - 4s 403ms/step - loss: 0.1850 - categorical_accuracy: 0.9489\n",
      "Epoch 58/500\n",
      "10/10 [==============================] - 4s 411ms/step - loss: 0.1736 - categorical_accuracy: 0.9553\n",
      "Epoch 59/500\n",
      "10/10 [==============================] - 4s 389ms/step - loss: 0.1540 - categorical_accuracy: 0.9585\n",
      "Epoch 60/500\n",
      "10/10 [==============================] - 4s 435ms/step - loss: 0.1667 - categorical_accuracy: 0.9521\n",
      "Epoch 61/500\n",
      "10/10 [==============================] - 4s 411ms/step - loss: 0.1495 - categorical_accuracy: 0.9585\n",
      "Epoch 62/500\n",
      "10/10 [==============================] - 4s 412ms/step - loss: 0.1456 - categorical_accuracy: 0.9649\n",
      "Epoch 63/500\n",
      "10/10 [==============================] - 4s 399ms/step - loss: 0.1319 - categorical_accuracy: 0.9521\n",
      "Epoch 64/500\n",
      "10/10 [==============================] - 4s 393ms/step - loss: 0.1256 - categorical_accuracy: 0.9649\n",
      "Epoch 65/500\n",
      "10/10 [==============================] - 4s 401ms/step - loss: 0.1124 - categorical_accuracy: 0.9649\n",
      "Epoch 66/500\n",
      "10/10 [==============================] - 4s 399ms/step - loss: 0.1358 - categorical_accuracy: 0.9585\n",
      "Epoch 67/500\n",
      "10/10 [==============================] - 4s 406ms/step - loss: 0.1669 - categorical_accuracy: 0.9553\n",
      "Epoch 68/500\n",
      "10/10 [==============================] - 4s 411ms/step - loss: 0.1994 - categorical_accuracy: 0.9297\n",
      "Epoch 69/500\n",
      "10/10 [==============================] - 4s 441ms/step - loss: 0.4780 - categorical_accuracy: 0.8466\n",
      "Epoch 70/500\n",
      "10/10 [==============================] - 4s 378ms/step - loss: 0.3231 - categorical_accuracy: 0.8946\n",
      "Epoch 71/500\n",
      "10/10 [==============================] - 3s 315ms/step - loss: 0.2304 - categorical_accuracy: 0.9329\n",
      "Epoch 72/500\n",
      "10/10 [==============================] - 4s 427ms/step - loss: 0.2646 - categorical_accuracy: 0.9169\n"
     ]
    },
    {
     "name": "stdout",
     "output_type": "stream",
     "text": [
      "Epoch 73/500\n",
      "10/10 [==============================] - 4s 439ms/step - loss: 0.1512 - categorical_accuracy: 0.9521\n",
      "Epoch 74/500\n",
      "10/10 [==============================] - 4s 439ms/step - loss: 0.1483 - categorical_accuracy: 0.9521\n",
      "Epoch 75/500\n",
      "10/10 [==============================] - 4s 383ms/step - loss: 0.1343 - categorical_accuracy: 0.9553\n",
      "Epoch 76/500\n",
      "10/10 [==============================] - 4s 380ms/step - loss: 0.1168 - categorical_accuracy: 0.9744\n",
      "Epoch 77/500\n",
      "10/10 [==============================] - 4s 375ms/step - loss: 0.1432 - categorical_accuracy: 0.9553\n",
      "Epoch 78/500\n",
      "10/10 [==============================] - 4s 382ms/step - loss: 0.1324 - categorical_accuracy: 0.9585\n",
      "Epoch 79/500\n",
      "10/10 [==============================] - 4s 367ms/step - loss: 0.1103 - categorical_accuracy: 0.9617\n",
      "Epoch 80/500\n",
      "10/10 [==============================] - 4s 365ms/step - loss: 0.1030 - categorical_accuracy: 0.9776\n",
      "Epoch 81/500\n",
      "10/10 [==============================] - 4s 358ms/step - loss: 0.1173 - categorical_accuracy: 0.9649\n",
      "Epoch 82/500\n",
      "10/10 [==============================] - 4s 353ms/step - loss: 0.1016 - categorical_accuracy: 0.9585\n",
      "Epoch 83/500\n",
      "10/10 [==============================] - 4s 353ms/step - loss: 0.0981 - categorical_accuracy: 0.9681\n",
      "Epoch 84/500\n",
      "10/10 [==============================] - 4s 370ms/step - loss: 0.1670 - categorical_accuracy: 0.9457\n",
      "Epoch 85/500\n",
      "10/10 [==============================] - 4s 370ms/step - loss: 1.6113 - categorical_accuracy: 0.6294\n",
      "Epoch 86/500\n",
      "10/10 [==============================] - 4s 377ms/step - loss: 1.2997 - categorical_accuracy: 0.4888\n",
      "Epoch 87/500\n",
      "10/10 [==============================] - 4s 383ms/step - loss: 0.7944 - categorical_accuracy: 0.6933\n",
      "Epoch 88/500\n",
      "10/10 [==============================] - 4s 383ms/step - loss: 0.6455 - categorical_accuracy: 0.8403\n",
      "Epoch 89/500\n",
      "10/10 [==============================] - 4s 380ms/step - loss: 0.7537 - categorical_accuracy: 0.7476\n",
      "Epoch 90/500\n",
      "10/10 [==============================] - 4s 390ms/step - loss: 0.5504 - categorical_accuracy: 0.8211\n",
      "Epoch 91/500\n",
      "10/10 [==============================] - 4s 394ms/step - loss: 0.3988 - categorical_accuracy: 0.9010\n",
      "Epoch 92/500\n",
      "10/10 [==============================] - 4s 398ms/step - loss: 0.3274 - categorical_accuracy: 0.9233\n",
      "Epoch 93/500\n",
      "10/10 [==============================] - 4s 396ms/step - loss: 0.2346 - categorical_accuracy: 0.9425\n",
      "Epoch 94/500\n",
      "10/10 [==============================] - 4s 450ms/step - loss: 0.2228 - categorical_accuracy: 0.9393\n",
      "Epoch 95/500\n",
      "10/10 [==============================] - 4s 417ms/step - loss: 0.2179 - categorical_accuracy: 0.9393\n",
      "Epoch 96/500\n",
      "10/10 [==============================] - 4s 431ms/step - loss: 0.1527 - categorical_accuracy: 0.9617\n",
      "Epoch 97/500\n",
      "10/10 [==============================] - 4s 406ms/step - loss: 0.1404 - categorical_accuracy: 0.9712\n",
      "Epoch 98/500\n",
      "10/10 [==============================] - 4s 393ms/step - loss: 0.1297 - categorical_accuracy: 0.9712\n",
      "Epoch 99/500\n",
      "10/10 [==============================] - 4s 405ms/step - loss: 0.1279 - categorical_accuracy: 0.9744\n",
      "Epoch 100/500\n",
      "10/10 [==============================] - 4s 392ms/step - loss: 0.1224 - categorical_accuracy: 0.9681\n",
      "Epoch 101/500\n",
      "10/10 [==============================] - 4s 392ms/step - loss: 0.1105 - categorical_accuracy: 0.9712\n",
      "Epoch 102/500\n",
      "10/10 [==============================] - 4s 400ms/step - loss: 0.1268 - categorical_accuracy: 0.9681\n",
      "Epoch 103/500\n",
      "10/10 [==============================] - 4s 404ms/step - loss: 0.1349 - categorical_accuracy: 0.9649\n",
      "Epoch 104/500\n",
      "10/10 [==============================] - 4s 434ms/step - loss: 0.1118 - categorical_accuracy: 0.9712\n",
      "Epoch 105/500\n",
      "10/10 [==============================] - 4s 423ms/step - loss: 0.1639 - categorical_accuracy: 0.9521\n",
      "Epoch 106/500\n",
      "10/10 [==============================] - 4s 425ms/step - loss: 0.3902 - categorical_accuracy: 0.8690\n",
      "Epoch 107/500\n",
      "10/10 [==============================] - 4s 408ms/step - loss: 0.6649 - categorical_accuracy: 0.7827\n",
      "Epoch 108/500\n",
      "10/10 [==============================] - 4s 415ms/step - loss: 0.2672 - categorical_accuracy: 0.9137\n",
      "Epoch 109/500\n",
      "10/10 [==============================] - 4s 414ms/step - loss: 0.1926 - categorical_accuracy: 0.9489\n",
      "Epoch 110/500\n",
      "10/10 [==============================] - 4s 403ms/step - loss: 0.1423 - categorical_accuracy: 0.9712\n",
      "Epoch 111/500\n",
      "10/10 [==============================] - 4s 417ms/step - loss: 0.1207 - categorical_accuracy: 0.9649\n",
      "Epoch 112/500\n",
      "10/10 [==============================] - 4s 395ms/step - loss: 0.1096 - categorical_accuracy: 0.9776\n",
      "Epoch 113/500\n",
      "10/10 [==============================] - 4s 396ms/step - loss: 0.0975 - categorical_accuracy: 0.9808\n",
      "Epoch 114/500\n",
      "10/10 [==============================] - 4s 414ms/step - loss: 0.1185 - categorical_accuracy: 0.9681\n",
      "Epoch 115/500\n",
      "10/10 [==============================] - 4s 403ms/step - loss: 0.1034 - categorical_accuracy: 0.9744\n",
      "Epoch 116/500\n",
      "10/10 [==============================] - 4s 406ms/step - loss: 0.0929 - categorical_accuracy: 0.9712\n",
      "Epoch 117/500\n",
      "10/10 [==============================] - 4s 408ms/step - loss: 0.5779 - categorical_accuracy: 0.8115\n",
      "Epoch 118/500\n",
      "10/10 [==============================] - 4s 412ms/step - loss: 0.9127 - categorical_accuracy: 0.6901\n",
      "Epoch 119/500\n",
      "10/10 [==============================] - 4s 429ms/step - loss: 0.3952 - categorical_accuracy: 0.8562\n",
      "Epoch 120/500\n",
      "10/10 [==============================] - 5s 454ms/step - loss: 0.2601 - categorical_accuracy: 0.9425\n",
      "Epoch 121/500\n",
      "10/10 [==============================] - 4s 403ms/step - loss: 0.1778 - categorical_accuracy: 0.9521\n",
      "Epoch 122/500\n",
      "10/10 [==============================] - 3s 259ms/step - loss: 0.1307 - categorical_accuracy: 0.9744\n",
      "Epoch 123/500\n",
      "10/10 [==============================] - 3s 270ms/step - loss: 0.1215 - categorical_accuracy: 0.9712\n",
      "Epoch 124/500\n",
      "10/10 [==============================] - 3s 322ms/step - loss: 0.1203 - categorical_accuracy: 0.9712\n",
      "Epoch 125/500\n",
      "10/10 [==============================] - 3s 308ms/step - loss: 0.1116 - categorical_accuracy: 0.9681\n",
      "Epoch 126/500\n",
      "10/10 [==============================] - 3s 295ms/step - loss: 0.1121 - categorical_accuracy: 0.9776\n",
      "Epoch 127/500\n",
      "10/10 [==============================] - 3s 299ms/step - loss: 0.0981 - categorical_accuracy: 0.9681\n",
      "Epoch 128/500\n",
      "10/10 [==============================] - 3s 296ms/step - loss: 0.0802 - categorical_accuracy: 0.9744\n",
      "Epoch 129/500\n",
      "10/10 [==============================] - 3s 287ms/step - loss: 0.0797 - categorical_accuracy: 0.9808\n",
      "Epoch 130/500\n",
      "10/10 [==============================] - 3s 288ms/step - loss: 0.0819 - categorical_accuracy: 0.9840\n",
      "Epoch 131/500\n",
      "10/10 [==============================] - 3s 273ms/step - loss: 0.0748 - categorical_accuracy: 0.9776\n",
      "Epoch 132/500\n",
      "10/10 [==============================] - 3s 278ms/step - loss: 0.0704 - categorical_accuracy: 0.9808\n",
      "Epoch 133/500\n",
      "10/10 [==============================] - 3s 285ms/step - loss: 0.0655 - categorical_accuracy: 0.9808\n",
      "Epoch 134/500\n",
      "10/10 [==============================] - 3s 272ms/step - loss: 0.0602 - categorical_accuracy: 0.9840\n",
      "Epoch 135/500\n",
      "10/10 [==============================] - 3s 274ms/step - loss: 0.0578 - categorical_accuracy: 0.9808\n",
      "Epoch 136/500\n",
      "10/10 [==============================] - 3s 274ms/step - loss: 0.0594 - categorical_accuracy: 0.9840\n",
      "Epoch 137/500\n",
      "10/10 [==============================] - 3s 267ms/step - loss: 0.0631 - categorical_accuracy: 0.9872\n",
      "Epoch 138/500\n",
      "10/10 [==============================] - 3s 265ms/step - loss: 0.0814 - categorical_accuracy: 0.9776\n",
      "Epoch 139/500\n",
      "10/10 [==============================] - 3s 268ms/step - loss: 0.0770 - categorical_accuracy: 0.9712\n",
      "Epoch 140/500\n",
      "10/10 [==============================] - 3s 280ms/step - loss: 0.1130 - categorical_accuracy: 0.9681\n",
      "Epoch 141/500\n",
      "10/10 [==============================] - 3s 271ms/step - loss: 0.2797 - categorical_accuracy: 0.9201\n",
      "Epoch 142/500\n",
      "10/10 [==============================] - 3s 269ms/step - loss: 0.5860 - categorical_accuracy: 0.8147\n",
      "Epoch 143/500\n",
      "10/10 [==============================] - 3s 268ms/step - loss: 0.3405 - categorical_accuracy: 0.8978\n",
      "Epoch 144/500\n",
      "10/10 [==============================] - 3s 264ms/step - loss: 0.1923 - categorical_accuracy: 0.9457\n",
      "Epoch 145/500\n",
      "10/10 [==============================] - 3s 261ms/step - loss: 0.1156 - categorical_accuracy: 0.9808\n",
      "Epoch 146/500\n",
      "10/10 [==============================] - 3s 252ms/step - loss: 0.0932 - categorical_accuracy: 0.9744\n",
      "Epoch 147/500\n",
      "10/10 [==============================] - 3s 257ms/step - loss: 0.0827 - categorical_accuracy: 0.9776\n",
      "Epoch 148/500\n",
      "10/10 [==============================] - 3s 272ms/step - loss: 0.0942 - categorical_accuracy: 0.9776\n",
      "Epoch 149/500\n",
      "10/10 [==============================] - 3s 263ms/step - loss: 0.0822 - categorical_accuracy: 0.9840\n",
      "Epoch 150/500\n",
      "10/10 [==============================] - 3s 275ms/step - loss: 0.5875 - categorical_accuracy: 0.8211\n",
      "Epoch 151/500\n",
      "10/10 [==============================] - 3s 264ms/step - loss: 0.5564 - categorical_accuracy: 0.8179\n",
      "Epoch 152/500\n",
      "10/10 [==============================] - 3s 268ms/step - loss: 0.3645 - categorical_accuracy: 0.8754\n",
      "Epoch 153/500\n",
      "10/10 [==============================] - 3s 280ms/step - loss: 0.2364 - categorical_accuracy: 0.9393\n",
      "Epoch 154/500\n",
      "10/10 [==============================] - 3s 266ms/step - loss: 0.1780 - categorical_accuracy: 0.9553\n",
      "Epoch 155/500\n",
      "10/10 [==============================] - 3s 276ms/step - loss: 0.1191 - categorical_accuracy: 0.9776\n",
      "Epoch 156/500\n",
      "10/10 [==============================] - 3s 276ms/step - loss: 0.0947 - categorical_accuracy: 0.9840\n",
      "Epoch 157/500\n",
      "10/10 [==============================] - 3s 268ms/step - loss: 0.0863 - categorical_accuracy: 0.9840\n",
      "Epoch 158/500\n",
      "10/10 [==============================] - 3s 275ms/step - loss: 0.0753 - categorical_accuracy: 0.9840\n",
      "Epoch 159/500\n",
      "10/10 [==============================] - 3s 276ms/step - loss: 0.0655 - categorical_accuracy: 0.9872\n",
      "Epoch 160/500\n",
      "10/10 [==============================] - 3s 274ms/step - loss: 0.0656 - categorical_accuracy: 0.9872\n",
      "Epoch 161/500\n",
      "10/10 [==============================] - 3s 280ms/step - loss: 0.0595 - categorical_accuracy: 0.9872\n",
      "Epoch 162/500\n",
      "10/10 [==============================] - 3s 290ms/step - loss: 0.0584 - categorical_accuracy: 0.9872\n",
      "Epoch 163/500\n",
      "10/10 [==============================] - 3s 277ms/step - loss: 0.0638 - categorical_accuracy: 0.9840\n",
      "Epoch 164/500\n",
      "10/10 [==============================] - 3s 284ms/step - loss: 0.0594 - categorical_accuracy: 0.9840\n",
      "Epoch 165/500\n",
      "10/10 [==============================] - 3s 293ms/step - loss: 0.0600 - categorical_accuracy: 0.9840\n",
      "Epoch 166/500\n",
      "10/10 [==============================] - 3s 289ms/step - loss: 0.0723 - categorical_accuracy: 0.9744\n",
      "Epoch 167/500\n",
      "10/10 [==============================] - 3s 293ms/step - loss: 0.0578 - categorical_accuracy: 0.9840\n",
      "Epoch 168/500\n",
      "10/10 [==============================] - 3s 309ms/step - loss: 0.0712 - categorical_accuracy: 0.9840\n",
      "Epoch 169/500\n",
      "10/10 [==============================] - 3s 292ms/step - loss: 0.0618 - categorical_accuracy: 0.9904\n",
      "Epoch 170/500\n",
      "10/10 [==============================] - 3s 305ms/step - loss: 0.0716 - categorical_accuracy: 0.9840\n",
      "Epoch 171/500\n",
      "10/10 [==============================] - 3s 312ms/step - loss: 0.0866 - categorical_accuracy: 0.9712\n",
      "Epoch 172/500\n",
      "10/10 [==============================] - 3s 302ms/step - loss: 0.1202 - categorical_accuracy: 0.9649\n",
      "Epoch 173/500\n",
      "10/10 [==============================] - 3s 300ms/step - loss: 0.1117 - categorical_accuracy: 0.9585\n",
      "Epoch 174/500\n",
      "10/10 [==============================] - 3s 299ms/step - loss: 0.1212 - categorical_accuracy: 0.9617\n",
      "Epoch 175/500\n",
      "10/10 [==============================] - 3s 304ms/step - loss: 0.0944 - categorical_accuracy: 0.9744\n",
      "Epoch 176/500\n",
      "10/10 [==============================] - 3s 292ms/step - loss: 0.0770 - categorical_accuracy: 0.9840\n",
      "Epoch 177/500\n",
      "10/10 [==============================] - 3s 302ms/step - loss: 0.0630 - categorical_accuracy: 0.9808\n",
      "Epoch 178/500\n",
      "10/10 [==============================] - 3s 296ms/step - loss: 0.0895 - categorical_accuracy: 0.9712\n",
      "Epoch 179/500\n",
      "10/10 [==============================] - 3s 289ms/step - loss: 0.0552 - categorical_accuracy: 0.9840\n",
      "Epoch 180/500\n",
      "10/10 [==============================] - 3s 309ms/step - loss: 0.0549 - categorical_accuracy: 0.9872\n",
      "Epoch 181/500\n",
      "10/10 [==============================] - 3s 325ms/step - loss: 0.0639 - categorical_accuracy: 0.9840\n",
      "Epoch 182/500\n",
      "10/10 [==============================] - 3s 298ms/step - loss: 0.0706 - categorical_accuracy: 0.9808\n",
      "Epoch 183/500\n",
      "10/10 [==============================] - 3s 289ms/step - loss: 0.0734 - categorical_accuracy: 0.9808\n",
      "Epoch 184/500\n",
      "10/10 [==============================] - 3s 315ms/step - loss: 0.2149 - categorical_accuracy: 0.9489\n",
      "Epoch 185/500\n",
      "10/10 [==============================] - 3s 287ms/step - loss: 0.2159 - categorical_accuracy: 0.9201\n",
      "Epoch 186/500\n",
      "10/10 [==============================] - 3s 279ms/step - loss: 0.0959 - categorical_accuracy: 0.9776\n",
      "Epoch 187/500\n",
      "10/10 [==============================] - 3s 288ms/step - loss: 0.0884 - categorical_accuracy: 0.9840\n",
      "Epoch 188/500\n",
      "10/10 [==============================] - 3s 272ms/step - loss: 0.0662 - categorical_accuracy: 0.9840\n",
      "Epoch 189/500\n",
      "10/10 [==============================] - 3s 276ms/step - loss: 0.0656 - categorical_accuracy: 0.9808\n",
      "Epoch 190/500\n",
      "10/10 [==============================] - 3s 279ms/step - loss: 0.0455 - categorical_accuracy: 0.9904\n",
      "Epoch 191/500\n",
      "10/10 [==============================] - 3s 283ms/step - loss: 0.0507 - categorical_accuracy: 0.9872\n",
      "Epoch 192/500\n",
      "10/10 [==============================] - 3s 269ms/step - loss: 0.0464 - categorical_accuracy: 0.9904\n",
      "Epoch 193/500\n",
      "10/10 [==============================] - 3s 264ms/step - loss: 0.0477 - categorical_accuracy: 0.9904\n",
      "Epoch 194/500\n",
      "10/10 [==============================] - 3s 262ms/step - loss: 0.0422 - categorical_accuracy: 0.9872\n",
      "Epoch 195/500\n",
      "10/10 [==============================] - 3s 260ms/step - loss: 0.0411 - categorical_accuracy: 0.9904\n",
      "Epoch 196/500\n",
      "10/10 [==============================] - 3s 259ms/step - loss: 0.0373 - categorical_accuracy: 0.9904\n",
      "Epoch 197/500\n",
      "10/10 [==============================] - 3s 257ms/step - loss: 0.0396 - categorical_accuracy: 0.9904\n",
      "Epoch 198/500\n",
      "10/10 [==============================] - 3s 262ms/step - loss: 0.0416 - categorical_accuracy: 0.9904\n",
      "Epoch 199/500\n",
      "10/10 [==============================] - 3s 267ms/step - loss: 0.0375 - categorical_accuracy: 0.9904\n",
      "Epoch 200/500\n",
      "10/10 [==============================] - 3s 264ms/step - loss: 0.0353 - categorical_accuracy: 0.9904\n",
      "Epoch 201/500\n",
      "10/10 [==============================] - 3s 265ms/step - loss: 0.1374 - categorical_accuracy: 0.9617\n",
      "Epoch 202/500\n",
      "10/10 [==============================] - 3s 276ms/step - loss: 0.2572 - categorical_accuracy: 0.9169\n",
      "Epoch 203/500\n",
      "10/10 [==============================] - 3s 284ms/step - loss: 0.2452 - categorical_accuracy: 0.9169\n",
      "Epoch 204/500\n",
      "10/10 [==============================] - 3s 271ms/step - loss: 0.2448 - categorical_accuracy: 0.9201\n",
      "Epoch 205/500\n",
      "10/10 [==============================] - 3s 272ms/step - loss: 0.1677 - categorical_accuracy: 0.9425\n",
      "Epoch 206/500\n",
      "10/10 [==============================] - 3s 281ms/step - loss: 0.0802 - categorical_accuracy: 0.9808\n",
      "Epoch 207/500\n",
      "10/10 [==============================] - 3s 274ms/step - loss: 0.0744 - categorical_accuracy: 0.9776\n",
      "Epoch 208/500\n",
      "10/10 [==============================] - 3s 290ms/step - loss: 0.0687 - categorical_accuracy: 0.9840\n",
      "Epoch 209/500\n",
      "10/10 [==============================] - 3s 289ms/step - loss: 0.0551 - categorical_accuracy: 0.9872\n",
      "Epoch 210/500\n",
      "10/10 [==============================] - 3s 289ms/step - loss: 0.0483 - categorical_accuracy: 0.9904\n",
      "Epoch 211/500\n",
      " 1/10 [==>...........................] - ETA: 0s - loss: 0.0553 - categorical_accuracy: 0.9688"
     ]
    },
    {
     "ename": "KeyboardInterrupt",
     "evalue": "",
     "output_type": "error",
     "traceback": [
      "\u001b[1;31m---------------------------------------------------------------------------\u001b[0m",
      "\u001b[1;31mKeyboardInterrupt\u001b[0m                         Traceback (most recent call last)",
      "\u001b[1;32m<ipython-input-60-b6d00f4619dd>\u001b[0m in \u001b[0;36m<module>\u001b[1;34m\u001b[0m\n\u001b[1;32m----> 1\u001b[1;33m \u001b[0mmodel\u001b[0m\u001b[1;33m.\u001b[0m\u001b[0mfit\u001b[0m\u001b[1;33m(\u001b[0m\u001b[0mX_train\u001b[0m\u001b[1;33m,\u001b[0m \u001b[0my_train\u001b[0m\u001b[1;33m,\u001b[0m \u001b[0mepochs\u001b[0m\u001b[1;33m=\u001b[0m\u001b[1;36m500\u001b[0m\u001b[1;33m,\u001b[0m \u001b[0mcallbacks\u001b[0m\u001b[1;33m=\u001b[0m\u001b[1;33m[\u001b[0m\u001b[0mtb_callback\u001b[0m\u001b[1;33m]\u001b[0m\u001b[1;33m)\u001b[0m\u001b[1;33m\u001b[0m\u001b[1;33m\u001b[0m\u001b[0m\n\u001b[0m",
      "\u001b[1;32m~\\anaconda3\\envs\\py37gpu\\lib\\site-packages\\tensorflow\\python\\keras\\engine\\training.py\u001b[0m in \u001b[0;36m_method_wrapper\u001b[1;34m(self, *args, **kwargs)\u001b[0m\n\u001b[0;32m    106\u001b[0m   \u001b[1;32mdef\u001b[0m \u001b[0m_method_wrapper\u001b[0m\u001b[1;33m(\u001b[0m\u001b[0mself\u001b[0m\u001b[1;33m,\u001b[0m \u001b[1;33m*\u001b[0m\u001b[0margs\u001b[0m\u001b[1;33m,\u001b[0m \u001b[1;33m**\u001b[0m\u001b[0mkwargs\u001b[0m\u001b[1;33m)\u001b[0m\u001b[1;33m:\u001b[0m\u001b[1;33m\u001b[0m\u001b[1;33m\u001b[0m\u001b[0m\n\u001b[0;32m    107\u001b[0m     \u001b[1;32mif\u001b[0m \u001b[1;32mnot\u001b[0m \u001b[0mself\u001b[0m\u001b[1;33m.\u001b[0m\u001b[0m_in_multi_worker_mode\u001b[0m\u001b[1;33m(\u001b[0m\u001b[1;33m)\u001b[0m\u001b[1;33m:\u001b[0m  \u001b[1;31m# pylint: disable=protected-access\u001b[0m\u001b[1;33m\u001b[0m\u001b[1;33m\u001b[0m\u001b[0m\n\u001b[1;32m--> 108\u001b[1;33m       \u001b[1;32mreturn\u001b[0m \u001b[0mmethod\u001b[0m\u001b[1;33m(\u001b[0m\u001b[0mself\u001b[0m\u001b[1;33m,\u001b[0m \u001b[1;33m*\u001b[0m\u001b[0margs\u001b[0m\u001b[1;33m,\u001b[0m \u001b[1;33m**\u001b[0m\u001b[0mkwargs\u001b[0m\u001b[1;33m)\u001b[0m\u001b[1;33m\u001b[0m\u001b[1;33m\u001b[0m\u001b[0m\n\u001b[0m\u001b[0;32m    109\u001b[0m \u001b[1;33m\u001b[0m\u001b[0m\n\u001b[0;32m    110\u001b[0m     \u001b[1;31m# Running inside `run_distribute_coordinator` already.\u001b[0m\u001b[1;33m\u001b[0m\u001b[1;33m\u001b[0m\u001b[1;33m\u001b[0m\u001b[0m\n",
      "\u001b[1;32m~\\anaconda3\\envs\\py37gpu\\lib\\site-packages\\tensorflow\\python\\keras\\engine\\training.py\u001b[0m in \u001b[0;36mfit\u001b[1;34m(self, x, y, batch_size, epochs, verbose, callbacks, validation_split, validation_data, shuffle, class_weight, sample_weight, initial_epoch, steps_per_epoch, validation_steps, validation_batch_size, validation_freq, max_queue_size, workers, use_multiprocessing)\u001b[0m\n\u001b[0;32m   1096\u001b[0m                 batch_size=batch_size):\n\u001b[0;32m   1097\u001b[0m               \u001b[0mcallbacks\u001b[0m\u001b[1;33m.\u001b[0m\u001b[0mon_train_batch_begin\u001b[0m\u001b[1;33m(\u001b[0m\u001b[0mstep\u001b[0m\u001b[1;33m)\u001b[0m\u001b[1;33m\u001b[0m\u001b[1;33m\u001b[0m\u001b[0m\n\u001b[1;32m-> 1098\u001b[1;33m               \u001b[0mtmp_logs\u001b[0m \u001b[1;33m=\u001b[0m \u001b[0mtrain_function\u001b[0m\u001b[1;33m(\u001b[0m\u001b[0miterator\u001b[0m\u001b[1;33m)\u001b[0m\u001b[1;33m\u001b[0m\u001b[1;33m\u001b[0m\u001b[0m\n\u001b[0m\u001b[0;32m   1099\u001b[0m               \u001b[1;32mif\u001b[0m \u001b[0mdata_handler\u001b[0m\u001b[1;33m.\u001b[0m\u001b[0mshould_sync\u001b[0m\u001b[1;33m:\u001b[0m\u001b[1;33m\u001b[0m\u001b[1;33m\u001b[0m\u001b[0m\n\u001b[0;32m   1100\u001b[0m                 \u001b[0mcontext\u001b[0m\u001b[1;33m.\u001b[0m\u001b[0masync_wait\u001b[0m\u001b[1;33m(\u001b[0m\u001b[1;33m)\u001b[0m\u001b[1;33m\u001b[0m\u001b[1;33m\u001b[0m\u001b[0m\n",
      "\u001b[1;32m~\\anaconda3\\envs\\py37gpu\\lib\\site-packages\\tensorflow\\python\\eager\\def_function.py\u001b[0m in \u001b[0;36m__call__\u001b[1;34m(self, *args, **kwds)\u001b[0m\n\u001b[0;32m    778\u001b[0m       \u001b[1;32melse\u001b[0m\u001b[1;33m:\u001b[0m\u001b[1;33m\u001b[0m\u001b[1;33m\u001b[0m\u001b[0m\n\u001b[0;32m    779\u001b[0m         \u001b[0mcompiler\u001b[0m \u001b[1;33m=\u001b[0m \u001b[1;34m\"nonXla\"\u001b[0m\u001b[1;33m\u001b[0m\u001b[1;33m\u001b[0m\u001b[0m\n\u001b[1;32m--> 780\u001b[1;33m         \u001b[0mresult\u001b[0m \u001b[1;33m=\u001b[0m \u001b[0mself\u001b[0m\u001b[1;33m.\u001b[0m\u001b[0m_call\u001b[0m\u001b[1;33m(\u001b[0m\u001b[1;33m*\u001b[0m\u001b[0margs\u001b[0m\u001b[1;33m,\u001b[0m \u001b[1;33m**\u001b[0m\u001b[0mkwds\u001b[0m\u001b[1;33m)\u001b[0m\u001b[1;33m\u001b[0m\u001b[1;33m\u001b[0m\u001b[0m\n\u001b[0m\u001b[0;32m    781\u001b[0m \u001b[1;33m\u001b[0m\u001b[0m\n\u001b[0;32m    782\u001b[0m       \u001b[0mnew_tracing_count\u001b[0m \u001b[1;33m=\u001b[0m \u001b[0mself\u001b[0m\u001b[1;33m.\u001b[0m\u001b[0m_get_tracing_count\u001b[0m\u001b[1;33m(\u001b[0m\u001b[1;33m)\u001b[0m\u001b[1;33m\u001b[0m\u001b[1;33m\u001b[0m\u001b[0m\n",
      "\u001b[1;32m~\\anaconda3\\envs\\py37gpu\\lib\\site-packages\\tensorflow\\python\\eager\\def_function.py\u001b[0m in \u001b[0;36m_call\u001b[1;34m(self, *args, **kwds)\u001b[0m\n\u001b[0;32m    805\u001b[0m       \u001b[1;31m# In this case we have created variables on the first call, so we run the\u001b[0m\u001b[1;33m\u001b[0m\u001b[1;33m\u001b[0m\u001b[1;33m\u001b[0m\u001b[0m\n\u001b[0;32m    806\u001b[0m       \u001b[1;31m# defunned version which is guaranteed to never create variables.\u001b[0m\u001b[1;33m\u001b[0m\u001b[1;33m\u001b[0m\u001b[1;33m\u001b[0m\u001b[0m\n\u001b[1;32m--> 807\u001b[1;33m       \u001b[1;32mreturn\u001b[0m \u001b[0mself\u001b[0m\u001b[1;33m.\u001b[0m\u001b[0m_stateless_fn\u001b[0m\u001b[1;33m(\u001b[0m\u001b[1;33m*\u001b[0m\u001b[0margs\u001b[0m\u001b[1;33m,\u001b[0m \u001b[1;33m**\u001b[0m\u001b[0mkwds\u001b[0m\u001b[1;33m)\u001b[0m  \u001b[1;31m# pylint: disable=not-callable\u001b[0m\u001b[1;33m\u001b[0m\u001b[1;33m\u001b[0m\u001b[0m\n\u001b[0m\u001b[0;32m    808\u001b[0m     \u001b[1;32melif\u001b[0m \u001b[0mself\u001b[0m\u001b[1;33m.\u001b[0m\u001b[0m_stateful_fn\u001b[0m \u001b[1;32mis\u001b[0m \u001b[1;32mnot\u001b[0m \u001b[1;32mNone\u001b[0m\u001b[1;33m:\u001b[0m\u001b[1;33m\u001b[0m\u001b[1;33m\u001b[0m\u001b[0m\n\u001b[0;32m    809\u001b[0m       \u001b[1;31m# Release the lock early so that multiple threads can perform the call\u001b[0m\u001b[1;33m\u001b[0m\u001b[1;33m\u001b[0m\u001b[1;33m\u001b[0m\u001b[0m\n",
      "\u001b[1;32m~\\anaconda3\\envs\\py37gpu\\lib\\site-packages\\tensorflow\\python\\eager\\function.py\u001b[0m in \u001b[0;36m__call__\u001b[1;34m(self, *args, **kwargs)\u001b[0m\n\u001b[0;32m   2827\u001b[0m     \u001b[1;32mwith\u001b[0m \u001b[0mself\u001b[0m\u001b[1;33m.\u001b[0m\u001b[0m_lock\u001b[0m\u001b[1;33m:\u001b[0m\u001b[1;33m\u001b[0m\u001b[1;33m\u001b[0m\u001b[0m\n\u001b[0;32m   2828\u001b[0m       \u001b[0mgraph_function\u001b[0m\u001b[1;33m,\u001b[0m \u001b[0margs\u001b[0m\u001b[1;33m,\u001b[0m \u001b[0mkwargs\u001b[0m \u001b[1;33m=\u001b[0m \u001b[0mself\u001b[0m\u001b[1;33m.\u001b[0m\u001b[0m_maybe_define_function\u001b[0m\u001b[1;33m(\u001b[0m\u001b[0margs\u001b[0m\u001b[1;33m,\u001b[0m \u001b[0mkwargs\u001b[0m\u001b[1;33m)\u001b[0m\u001b[1;33m\u001b[0m\u001b[1;33m\u001b[0m\u001b[0m\n\u001b[1;32m-> 2829\u001b[1;33m     \u001b[1;32mreturn\u001b[0m \u001b[0mgraph_function\u001b[0m\u001b[1;33m.\u001b[0m\u001b[0m_filtered_call\u001b[0m\u001b[1;33m(\u001b[0m\u001b[0margs\u001b[0m\u001b[1;33m,\u001b[0m \u001b[0mkwargs\u001b[0m\u001b[1;33m)\u001b[0m  \u001b[1;31m# pylint: disable=protected-access\u001b[0m\u001b[1;33m\u001b[0m\u001b[1;33m\u001b[0m\u001b[0m\n\u001b[0m\u001b[0;32m   2830\u001b[0m \u001b[1;33m\u001b[0m\u001b[0m\n\u001b[0;32m   2831\u001b[0m   \u001b[1;33m@\u001b[0m\u001b[0mproperty\u001b[0m\u001b[1;33m\u001b[0m\u001b[1;33m\u001b[0m\u001b[0m\n",
      "\u001b[1;32m~\\anaconda3\\envs\\py37gpu\\lib\\site-packages\\tensorflow\\python\\eager\\function.py\u001b[0m in \u001b[0;36m_filtered_call\u001b[1;34m(self, args, kwargs, cancellation_manager)\u001b[0m\n\u001b[0;32m   1846\u001b[0m                            resource_variable_ops.BaseResourceVariable))],\n\u001b[0;32m   1847\u001b[0m         \u001b[0mcaptured_inputs\u001b[0m\u001b[1;33m=\u001b[0m\u001b[0mself\u001b[0m\u001b[1;33m.\u001b[0m\u001b[0mcaptured_inputs\u001b[0m\u001b[1;33m,\u001b[0m\u001b[1;33m\u001b[0m\u001b[1;33m\u001b[0m\u001b[0m\n\u001b[1;32m-> 1848\u001b[1;33m         cancellation_manager=cancellation_manager)\n\u001b[0m\u001b[0;32m   1849\u001b[0m \u001b[1;33m\u001b[0m\u001b[0m\n\u001b[0;32m   1850\u001b[0m   \u001b[1;32mdef\u001b[0m \u001b[0m_call_flat\u001b[0m\u001b[1;33m(\u001b[0m\u001b[0mself\u001b[0m\u001b[1;33m,\u001b[0m \u001b[0margs\u001b[0m\u001b[1;33m,\u001b[0m \u001b[0mcaptured_inputs\u001b[0m\u001b[1;33m,\u001b[0m \u001b[0mcancellation_manager\u001b[0m\u001b[1;33m=\u001b[0m\u001b[1;32mNone\u001b[0m\u001b[1;33m)\u001b[0m\u001b[1;33m:\u001b[0m\u001b[1;33m\u001b[0m\u001b[1;33m\u001b[0m\u001b[0m\n",
      "\u001b[1;32m~\\anaconda3\\envs\\py37gpu\\lib\\site-packages\\tensorflow\\python\\eager\\function.py\u001b[0m in \u001b[0;36m_call_flat\u001b[1;34m(self, args, captured_inputs, cancellation_manager)\u001b[0m\n\u001b[0;32m   1922\u001b[0m       \u001b[1;31m# No tape is watching; skip to running the function.\u001b[0m\u001b[1;33m\u001b[0m\u001b[1;33m\u001b[0m\u001b[1;33m\u001b[0m\u001b[0m\n\u001b[0;32m   1923\u001b[0m       return self._build_call_outputs(self._inference_function.call(\n\u001b[1;32m-> 1924\u001b[1;33m           ctx, args, cancellation_manager=cancellation_manager))\n\u001b[0m\u001b[0;32m   1925\u001b[0m     forward_backward = self._select_forward_and_backward_functions(\n\u001b[0;32m   1926\u001b[0m         \u001b[0margs\u001b[0m\u001b[1;33m,\u001b[0m\u001b[1;33m\u001b[0m\u001b[1;33m\u001b[0m\u001b[0m\n",
      "\u001b[1;32m~\\anaconda3\\envs\\py37gpu\\lib\\site-packages\\tensorflow\\python\\eager\\function.py\u001b[0m in \u001b[0;36mcall\u001b[1;34m(self, ctx, args, cancellation_manager)\u001b[0m\n\u001b[0;32m    548\u001b[0m               \u001b[0minputs\u001b[0m\u001b[1;33m=\u001b[0m\u001b[0margs\u001b[0m\u001b[1;33m,\u001b[0m\u001b[1;33m\u001b[0m\u001b[1;33m\u001b[0m\u001b[0m\n\u001b[0;32m    549\u001b[0m               \u001b[0mattrs\u001b[0m\u001b[1;33m=\u001b[0m\u001b[0mattrs\u001b[0m\u001b[1;33m,\u001b[0m\u001b[1;33m\u001b[0m\u001b[1;33m\u001b[0m\u001b[0m\n\u001b[1;32m--> 550\u001b[1;33m               ctx=ctx)\n\u001b[0m\u001b[0;32m    551\u001b[0m         \u001b[1;32melse\u001b[0m\u001b[1;33m:\u001b[0m\u001b[1;33m\u001b[0m\u001b[1;33m\u001b[0m\u001b[0m\n\u001b[0;32m    552\u001b[0m           outputs = execute.execute_with_cancellation(\n",
      "\u001b[1;32m~\\anaconda3\\envs\\py37gpu\\lib\\site-packages\\tensorflow\\python\\eager\\execute.py\u001b[0m in \u001b[0;36mquick_execute\u001b[1;34m(op_name, num_outputs, inputs, attrs, ctx, name)\u001b[0m\n\u001b[0;32m     58\u001b[0m     \u001b[0mctx\u001b[0m\u001b[1;33m.\u001b[0m\u001b[0mensure_initialized\u001b[0m\u001b[1;33m(\u001b[0m\u001b[1;33m)\u001b[0m\u001b[1;33m\u001b[0m\u001b[1;33m\u001b[0m\u001b[0m\n\u001b[0;32m     59\u001b[0m     tensors = pywrap_tfe.TFE_Py_Execute(ctx._handle, device_name, op_name,\n\u001b[1;32m---> 60\u001b[1;33m                                         inputs, attrs, num_outputs)\n\u001b[0m\u001b[0;32m     61\u001b[0m   \u001b[1;32mexcept\u001b[0m \u001b[0mcore\u001b[0m\u001b[1;33m.\u001b[0m\u001b[0m_NotOkStatusException\u001b[0m \u001b[1;32mas\u001b[0m \u001b[0me\u001b[0m\u001b[1;33m:\u001b[0m\u001b[1;33m\u001b[0m\u001b[1;33m\u001b[0m\u001b[0m\n\u001b[0;32m     62\u001b[0m     \u001b[1;32mif\u001b[0m \u001b[0mname\u001b[0m \u001b[1;32mis\u001b[0m \u001b[1;32mnot\u001b[0m \u001b[1;32mNone\u001b[0m\u001b[1;33m:\u001b[0m\u001b[1;33m\u001b[0m\u001b[1;33m\u001b[0m\u001b[0m\n",
      "\u001b[1;31mKeyboardInterrupt\u001b[0m: "
     ]
    }
   ],
   "source": [
    "model.fit(X_train, y_train, epochs=500, callbacks=[tb_callback])"
   ]
  },
  {
   "cell_type": "code",
   "execution_count": 61,
   "id": "8338ab09",
   "metadata": {},
   "outputs": [
    {
     "name": "stdout",
     "output_type": "stream",
     "text": [
      "Model: \"sequential_1\"\n",
      "_________________________________________________________________\n",
      "Layer (type)                 Output Shape              Param #   \n",
      "=================================================================\n",
      "lstm_3 (LSTM)                (None, 30, 64)            48896     \n",
      "_________________________________________________________________\n",
      "lstm_4 (LSTM)                (None, 30, 128)           98816     \n",
      "_________________________________________________________________\n",
      "lstm_5 (LSTM)                (None, 64)                49408     \n",
      "_________________________________________________________________\n",
      "dense_3 (Dense)              (None, 64)                4160      \n",
      "_________________________________________________________________\n",
      "dense_4 (Dense)              (None, 128)               8320      \n",
      "_________________________________________________________________\n",
      "dense_5 (Dense)              (None, 64)                8256      \n",
      "_________________________________________________________________\n",
      "dense_6 (Dense)              (None, 32)                2080      \n",
      "_________________________________________________________________\n",
      "dense_7 (Dense)              (None, 11)                363       \n",
      "=================================================================\n",
      "Total params: 220,299\n",
      "Trainable params: 220,299\n",
      "Non-trainable params: 0\n",
      "_________________________________________________________________\n"
     ]
    }
   ],
   "source": [
    "model.summary()"
   ]
  },
  {
   "cell_type": "markdown",
   "id": "6a62e85a",
   "metadata": {},
   "source": [
    "# 8.  Make Predictions"
   ]
  },
  {
   "cell_type": "code",
   "execution_count": 62,
   "id": "e2700001",
   "metadata": {},
   "outputs": [],
   "source": [
    "res = model.predict(X_test)"
   ]
  },
  {
   "cell_type": "code",
   "execution_count": 63,
   "id": "1b003d6d",
   "metadata": {},
   "outputs": [
    {
     "data": {
      "text/plain": [
       "'I'"
      ]
     },
     "execution_count": 63,
     "metadata": {},
     "output_type": "execute_result"
    }
   ],
   "source": [
    "actions[np.argmax(res[0])]"
   ]
  },
  {
   "cell_type": "code",
   "execution_count": 64,
   "id": "ffc65e5d",
   "metadata": {},
   "outputs": [
    {
     "data": {
      "text/plain": [
       "'I'"
      ]
     },
     "execution_count": 64,
     "metadata": {},
     "output_type": "execute_result"
    }
   ],
   "source": [
    "actions[np.argmax(y_test[0])]"
   ]
  },
  {
   "cell_type": "markdown",
   "id": "af950e11",
   "metadata": {},
   "source": [
    "# 9. Save model"
   ]
  },
  {
   "cell_type": "code",
   "execution_count": 65,
   "id": "94666e88",
   "metadata": {},
   "outputs": [],
   "source": [
    "model.save('action.h5')"
   ]
  },
  {
   "cell_type": "code",
   "execution_count": 75,
   "id": "64a239ac",
   "metadata": {},
   "outputs": [],
   "source": [
    "del model"
   ]
  },
  {
   "cell_type": "code",
   "execution_count": 30,
   "id": "6d2c280e",
   "metadata": {},
   "outputs": [],
   "source": [
    "model.load_weights('action.h5')"
   ]
  },
  {
   "cell_type": "markdown",
   "id": "178bdcf3",
   "metadata": {},
   "source": [
    "# 10. Evaluation using Confusion Matrix and Accuracy"
   ]
  },
  {
   "cell_type": "code",
   "execution_count": 31,
   "id": "df2faf56",
   "metadata": {},
   "outputs": [],
   "source": [
    "from sklearn.metrics import multilabel_confusion_matrix, accuracy_score"
   ]
  },
  {
   "cell_type": "code",
   "execution_count": 26,
   "id": "bb088c89",
   "metadata": {},
   "outputs": [
    {
     "ename": "NameError",
     "evalue": "name 'X_test' is not defined",
     "output_type": "error",
     "traceback": [
      "\u001b[1;31m---------------------------------------------------------------------------\u001b[0m",
      "\u001b[1;31mNameError\u001b[0m                                 Traceback (most recent call last)",
      "\u001b[1;32m<ipython-input-26-412a1357352b>\u001b[0m in \u001b[0;36m<module>\u001b[1;34m\u001b[0m\n\u001b[1;32m----> 1\u001b[1;33m \u001b[0myhat\u001b[0m \u001b[1;33m=\u001b[0m \u001b[0mmodel\u001b[0m\u001b[1;33m.\u001b[0m\u001b[0mpredict\u001b[0m\u001b[1;33m(\u001b[0m\u001b[0mX_test\u001b[0m\u001b[1;33m)\u001b[0m\u001b[1;33m\u001b[0m\u001b[1;33m\u001b[0m\u001b[0m\n\u001b[0m",
      "\u001b[1;31mNameError\u001b[0m: name 'X_test' is not defined"
     ]
    }
   ],
   "source": [
    "\n",
    "yhat = model.predict(X_test)"
   ]
  },
  {
   "cell_type": "code",
   "execution_count": 69,
   "id": "e63d0527",
   "metadata": {},
   "outputs": [],
   "source": [
    "ytrue = np.argmax(y_test, axis=1).tolist()\n",
    "yhat = np.argmax(yhat, axis=1).tolist()"
   ]
  },
  {
   "cell_type": "code",
   "execution_count": 70,
   "id": "74652e0c",
   "metadata": {},
   "outputs": [
    {
     "data": {
      "text/plain": [
       "array([[[15,  0],\n",
       "        [ 0,  2]],\n",
       "\n",
       "       [[13,  0],\n",
       "        [ 0,  4]],\n",
       "\n",
       "       [[16,  0],\n",
       "        [ 0,  1]],\n",
       "\n",
       "       [[15,  0],\n",
       "        [ 0,  2]],\n",
       "\n",
       "       [[16,  0],\n",
       "        [ 0,  1]],\n",
       "\n",
       "       [[16,  0],\n",
       "        [ 0,  1]],\n",
       "\n",
       "       [[16,  0],\n",
       "        [ 0,  1]],\n",
       "\n",
       "       [[16,  0],\n",
       "        [ 0,  1]],\n",
       "\n",
       "       [[14,  0],\n",
       "        [ 0,  3]],\n",
       "\n",
       "       [[16,  0],\n",
       "        [ 0,  1]]], dtype=int64)"
      ]
     },
     "execution_count": 70,
     "metadata": {},
     "output_type": "execute_result"
    }
   ],
   "source": [
    "multilabel_confusion_matrix(ytrue, yhat)"
   ]
  },
  {
   "cell_type": "code",
   "execution_count": 71,
   "id": "3b18994d",
   "metadata": {},
   "outputs": [
    {
     "data": {
      "text/plain": [
       "1.0"
      ]
     },
     "execution_count": 71,
     "metadata": {},
     "output_type": "execute_result"
    }
   ],
   "source": [
    "\n",
    "accuracy_score(ytrue, yhat)"
   ]
  },
  {
   "cell_type": "markdown",
   "id": "f110e3a5",
   "metadata": {},
   "source": [
    "# 11. Test in real time"
   ]
  },
  {
   "cell_type": "code",
   "execution_count": 33,
   "id": "f9388065",
   "metadata": {},
   "outputs": [],
   "source": [
    "colors = [(245,117,16), (117,245,16), (16,117,245),(166,107,245),(106,167,245),(106,117,205),(161,107,25),(130,187,245),(106,117,205),(106,100,245),(196,107,245)]\n",
    "def prob_viz(res, actions, input_frame, colors):\n",
    "    output_frame = input_frame.copy()\n",
    "    for num, prob in enumerate(res):\n",
    "        cv2.rectangle(output_frame, (0,60+num*40), (int(prob*100), 90+num*40), colors[num], -1)\n",
    "        cv2.putText(output_frame, actions[num], (0, 85+num*40), cv2.FONT_HERSHEY_SIMPLEX, 1, (255,255,255), 2, cv2.LINE_AA)\n",
    "        \n",
    "    return output_frame"
   ]
  },
  {
   "cell_type": "code",
   "execution_count": 36,
   "id": "7d9d706f",
   "metadata": {},
   "outputs": [],
   "source": [
    "# 1. New detection variables\n",
    "sequence = []\n",
    "sentence = []\n",
    "threshold = 0.8\n",
    "\n",
    "cap = cv2.VideoCapture(0)\n",
    "# Set mediapipe model \n",
    "with mp_holistic.Holistic(min_detection_confidence=0.5, min_tracking_confidence=0.5) as holistic:\n",
    "    while cap.isOpened():\n",
    "\n",
    "        # Read feed\n",
    "        ret, frame = cap.read()\n",
    "\n",
    "        # Make detections\n",
    "        image, results = mediapipe_detection(frame, holistic)\n",
    "#         print(results)\n",
    "        \n",
    "        # Draw landmarks\n",
    "        draw_styled_landmarks(image, results)\n",
    "        cv2.rectangle(image,(50,100), (300,350),(255,0,0), 2)\n",
    "        # 2. Prediction logic\n",
    "        keypoints = extract_keypoints(results)\n",
    "#         sequence.insert(0,keypoints)\n",
    "#         sequence = sequence[:30]\n",
    "        sequence.append(keypoints)\n",
    "#         print(sequence)\n",
    "        sequence = sequence[-30:]\n",
    "#         print(sequence)\n",
    "        \n",
    "        if len(sequence) == 30:\n",
    "            res = model.predict(np.expand_dims(sequence, axis=0))[0]\n",
    "#             print(actions[np.argmax(res)])\n",
    "        #3. Viz logic\n",
    "            if res[np.argmax(res)] > threshold: \n",
    "                if len(sentence) > 0: \n",
    "                    if actions[np.argmax(res)] != sentence[-1]:\n",
    "                        sentence.append(actions[np.argmax(res)])\n",
    "                else:\n",
    "                    sentence.append(actions[np.argmax(res)])\n",
    "\n",
    "            if len(sentence) > 5: \n",
    "                sentence = sentence[-5:]\n",
    "\n",
    "            # Viz probabilities\n",
    "            image = prob_viz(res, actions, image, colors)\n",
    "            \n",
    "        cv2.rectangle(image, (0,0), (640, 40), (245, 117, 16), -1)\n",
    "        cv2.putText(image, ''.join(sentence), (3,30), \n",
    "                       cv2.FONT_HERSHEY_SIMPLEX, 1, (255, 255, 255), 2, cv2.LINE_AA)\n",
    "        \n",
    "        # Show to screen\n",
    "        cv2.imshow('OpenCV Feed', image)\n",
    "\n",
    "        # Break gracefully\n",
    "        if cv2.waitKey(10) & 0xFF == ord('q'):\n",
    "            break\n",
    "    cap.release()\n",
    "    cv2.destroyAllWindows()"
   ]
  },
  {
   "cell_type": "code",
   "execution_count": null,
   "id": "4ea10b5d",
   "metadata": {},
   "outputs": [],
   "source": []
  }
 ],
 "metadata": {
  "kernelspec": {
   "display_name": "Python 3",
   "language": "python",
   "name": "python3"
  },
  "language_info": {
   "codemirror_mode": {
    "name": "ipython",
    "version": 3
   },
   "file_extension": ".py",
   "mimetype": "text/x-python",
   "name": "python",
   "nbconvert_exporter": "python",
   "pygments_lexer": "ipython3",
   "version": "3.7.10"
  }
 },
 "nbformat": 4,
 "nbformat_minor": 5
}
